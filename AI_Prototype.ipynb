{
  "nbformat": 4,
  "nbformat_minor": 0,
  "metadata": {
    "colab": {
      "provenance": [],
      "authorship_tag": "ABX9TyNlJ50O7sreXNl4fGYIewdP",
      "include_colab_link": true
    },
    "kernelspec": {
      "name": "python3",
      "display_name": "Python 3"
    },
    "language_info": {
      "name": "python"
    }
  },
  "cells": [
    {
      "cell_type": "markdown",
      "metadata": {
        "id": "view-in-github",
        "colab_type": "text"
      },
      "source": [
        "<a href=\"https://colab.research.google.com/github/Nattakonjpg/AIPrototype2023/blob/main/AI_Prototype.ipynb\" target=\"_parent\"><img src=\"https://colab.research.google.com/assets/colab-badge.svg\" alt=\"Open In Colab\"/></a>"
      ]
    },
    {
      "cell_type": "markdown",
      "source": [
        "# Import"
      ],
      "metadata": {
        "id": "A-OQwryuVZ1H"
      }
    },
    {
      "cell_type": "code",
      "execution_count": 1,
      "metadata": {
        "id": "b7E0MhGTUPH0"
      },
      "outputs": [],
      "source": [
        "import tensorflow as tf\n",
        "from tensorflow import keras #interface\n",
        "from tensorflow.keras import layers"
      ]
    },
    {
      "cell_type": "markdown",
      "source": [
        "##Define\n"
      ],
      "metadata": {
        "id": "D-LFpJFBVpoo"
      }
    },
    {
      "cell_type": "code",
      "source": [
        "#Define Sequential model with 3 Layers\n",
        "model = keras.Sequential(\n",
        "        [\n",
        "             keras.Input(shape=(4,)), #4 Node\n",
        "             layers.Dense(2, activation=\"relu\", name=\"layer1\"), #Dense = fully connected\n",
        "             layers.Dense(3, activation=\"relu\", name=\"layer2\"),\n",
        "             layers.Dense(5, name=\"output\")  #4 class\n",
        "        ]\n",
        ")"
      ],
      "metadata": {
        "id": "MJjSUo2wVrCV"
      },
      "execution_count": 14,
      "outputs": []
    },
    {
      "cell_type": "code",
      "source": [
        "model.summary()"
      ],
      "metadata": {
        "colab": {
          "base_uri": "https://localhost:8080/"
        },
        "id": "Cuibfj7RWmk6",
        "outputId": "63622f5d-f692-4a18-b05c-16054adc8ada"
      },
      "execution_count": 15,
      "outputs": [
        {
          "output_type": "stream",
          "name": "stdout",
          "text": [
            "Model: \"sequential_1\"\n",
            "_________________________________________________________________\n",
            " Layer (type)                Output Shape              Param #   \n",
            "=================================================================\n",
            " layer1 (Dense)              (None, 2)                 10        \n",
            "                                                                 \n",
            " layer2 (Dense)              (None, 3)                 9         \n",
            "                                                                 \n",
            " output (Dense)              (None, 5)                 20        \n",
            "                                                                 \n",
            "=================================================================\n",
            "Total params: 39 (156.00 Byte)\n",
            "Trainable params: 39 (156.00 Byte)\n",
            "Non-trainable params: 0 (0.00 Byte)\n",
            "_________________________________________________________________\n"
          ]
        }
      ]
    },
    {
      "cell_type": "markdown",
      "source": [
        "###predict"
      ],
      "metadata": {
        "id": "A5S95xXKZJS-"
      }
    },
    {
      "cell_type": "code",
      "source": [
        "x = tf.ones((5, 5)) #5 row 4 columns = else is 1, batch size = 5"
      ],
      "metadata": {
        "id": "pWPAOZREZD0L"
      },
      "execution_count": 19,
      "outputs": []
    },
    {
      "cell_type": "code",
      "source": [
        "x"
      ],
      "metadata": {
        "colab": {
          "base_uri": "https://localhost:8080/"
        },
        "id": "7uOBwxHRZVxe",
        "outputId": "4d12414e-611c-4eab-ddfc-f3d8628125cf"
      },
      "execution_count": 8,
      "outputs": [
        {
          "output_type": "execute_result",
          "data": {
            "text/plain": [
              "<tf.Tensor: shape=(5, 4), dtype=float32, numpy=\n",
              "array([[1., 1., 1., 1.],\n",
              "       [1., 1., 1., 1.],\n",
              "       [1., 1., 1., 1.],\n",
              "       [1., 1., 1., 1.],\n",
              "       [1., 1., 1., 1.]], dtype=float32)>"
            ]
          },
          "metadata": {},
          "execution_count": 8
        }
      ]
    },
    {
      "cell_type": "code",
      "source": [
        "y = model(x)"
      ],
      "metadata": {
        "id": "xmr8eOwDZhaG"
      },
      "execution_count": 17,
      "outputs": []
    },
    {
      "cell_type": "code",
      "source": [
        "y"
      ],
      "metadata": {
        "colab": {
          "base_uri": "https://localhost:8080/"
        },
        "id": "n4Xhh2KRZixa",
        "outputId": "4736a03c-aeef-449f-bd5f-7eb7fc79b10d"
      },
      "execution_count": 20,
      "outputs": [
        {
          "output_type": "execute_result",
          "data": {
            "text/plain": [
              "<tf.Tensor: shape=(5, 5), dtype=float32, numpy=\n",
              "array([[ 0.05855815,  0.20337819, -0.02154016,  0.06831552, -0.09714634],\n",
              "       [ 0.05855815,  0.20337819, -0.02154016,  0.06831552, -0.09714634],\n",
              "       [ 0.05855815,  0.20337819, -0.02154016,  0.06831552, -0.09714634],\n",
              "       [ 0.05855815,  0.20337819, -0.02154016,  0.06831552, -0.09714634],\n",
              "       [ 0.05855815,  0.20337819, -0.02154016,  0.06831552, -0.09714634]],\n",
              "      dtype=float32)>"
            ]
          },
          "metadata": {},
          "execution_count": 20
        }
      ]
    }
  ]
}