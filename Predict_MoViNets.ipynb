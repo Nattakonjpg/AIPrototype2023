{
  "nbformat": 4,
  "nbformat_minor": 0,
  "metadata": {
    "colab": {
      "provenance": [],
      "collapsed_sections": [
        "hL76pV4__GqI",
        "vV734KQT_Y8w",
        "ocE_OTcPAR-W",
        "EzqlG-RdCBCM",
        "J6ZFDR4iCLzo"
      ],
      "authorship_tag": "ABX9TyOhYOpreOzudOlqp3U8SDy9",
      "include_colab_link": true
    },
    "kernelspec": {
      "name": "python3",
      "display_name": "Python 3"
    },
    "language_info": {
      "name": "python"
    }
  },
  "cells": [
    {
      "cell_type": "markdown",
      "metadata": {
        "id": "view-in-github",
        "colab_type": "text"
      },
      "source": [
        "<a href=\"https://colab.research.google.com/github/Nattakonjpg/AIPrototype2023/blob/main/Predict_MoViNets.ipynb\" target=\"_parent\"><img src=\"https://colab.research.google.com/assets/colab-badge.svg\" alt=\"Open In Colab\"/></a>"
      ]
    },
    {
      "cell_type": "markdown",
      "source": [
        "#Connect Google Drive"
      ],
      "metadata": {
        "id": "hL76pV4__GqI"
      }
    },
    {
      "cell_type": "code",
      "execution_count": 1,
      "metadata": {
        "colab": {
          "base_uri": "https://localhost:8080/"
        },
        "id": "uykTe7Wn9TPK",
        "outputId": "64ba672a-01dc-4768-b46e-9960f2a93438"
      },
      "outputs": [
        {
          "output_type": "stream",
          "name": "stdout",
          "text": [
            "Mounted at /content/drive\n"
          ]
        }
      ],
      "source": [
        "from google.colab import drive\n",
        "drive.mount('/content/drive')"
      ]
    },
    {
      "cell_type": "code",
      "source": [
        "%cd /content/drive/MyDrive/Game analysis/Video/Vdo_model\n"
      ],
      "metadata": {
        "colab": {
          "base_uri": "https://localhost:8080/"
        },
        "id": "Bs6E4ekHEEid",
        "outputId": "f9c0aac7-67f4-4172-f79c-a63140b1a439"
      },
      "execution_count": 6,
      "outputs": [
        {
          "output_type": "stream",
          "name": "stdout",
          "text": [
            "/content/drive/.shortcut-targets-by-id/1jusOl_HN_QQ9kYMlGXffiLoyy9tUOXuM/Game analysis/Video/Vdo_model\n"
          ]
        }
      ]
    },
    {
      "cell_type": "markdown",
      "source": [
        "##Install Package and Library"
      ],
      "metadata": {
        "id": "Talxea9r_J93"
      }
    },
    {
      "cell_type": "code",
      "source": [
        "!pip install av"
      ],
      "metadata": {
        "colab": {
          "base_uri": "https://localhost:8080/"
        },
        "id": "sTgFdOBz_OKy",
        "outputId": "ef8afa8f-565d-4b06-dd6d-4a4bdb86f3b8"
      },
      "execution_count": 3,
      "outputs": [
        {
          "output_type": "stream",
          "name": "stdout",
          "text": [
            "Collecting av\n",
            "  Downloading av-11.0.0-cp310-cp310-manylinux_2_17_x86_64.manylinux2014_x86_64.whl (32.9 MB)\n",
            "\u001b[2K     \u001b[90m━━━━━━━━━━━━━━━━━━━━━━━━━━━━━━━━━━━━━━━━\u001b[0m \u001b[32m32.9/32.9 MB\u001b[0m \u001b[31m41.5 MB/s\u001b[0m eta \u001b[36m0:00:00\u001b[0m\n",
            "\u001b[?25hInstalling collected packages: av\n",
            "Successfully installed av-11.0.0\n"
          ]
        }
      ]
    },
    {
      "cell_type": "code",
      "source": [
        "pip install git+https://github.com/Atze00/MoViNet-pytorch.git"
      ],
      "metadata": {
        "colab": {
          "base_uri": "https://localhost:8080/"
        },
        "id": "sxeXsgcS_O77",
        "outputId": "ac07cbd2-4a31-492f-8454-d1d577cb3141"
      },
      "execution_count": 4,
      "outputs": [
        {
          "output_type": "stream",
          "name": "stdout",
          "text": [
            "Collecting git+https://github.com/Atze00/MoViNet-pytorch.git\n",
            "  Cloning https://github.com/Atze00/MoViNet-pytorch.git to /tmp/pip-req-build-gf4pl_ff\n",
            "  Running command git clone --filter=blob:none --quiet https://github.com/Atze00/MoViNet-pytorch.git /tmp/pip-req-build-gf4pl_ff\n",
            "  Resolved https://github.com/Atze00/MoViNet-pytorch.git to commit c2d1edf48fc6c5259707f9d833f22171b4f63493\n",
            "  Preparing metadata (setup.py) ... \u001b[?25l\u001b[?25hdone\n",
            "Requirement already satisfied: torch in /usr/local/lib/python3.10/dist-packages (from MoViNet-pytorch==0.2.2) (2.1.0+cu121)\n",
            "Collecting fvcore (from MoViNet-pytorch==0.2.2)\n",
            "  Downloading fvcore-0.1.5.post20221221.tar.gz (50 kB)\n",
            "\u001b[2K     \u001b[90m━━━━━━━━━━━━━━━━━━━━━━━━━━━━━━━━━━━━━━━━\u001b[0m \u001b[32m50.2/50.2 kB\u001b[0m \u001b[31m1.9 MB/s\u001b[0m eta \u001b[36m0:00:00\u001b[0m\n",
            "\u001b[?25h  Preparing metadata (setup.py) ... \u001b[?25l\u001b[?25hdone\n",
            "Collecting einops (from MoViNet-pytorch==0.2.2)\n",
            "  Downloading einops-0.7.0-py3-none-any.whl (44 kB)\n",
            "\u001b[2K     \u001b[90m━━━━━━━━━━━━━━━━━━━━━━━━━━━━━━━━━━━━━━━━\u001b[0m \u001b[32m44.6/44.6 kB\u001b[0m \u001b[31m3.7 MB/s\u001b[0m eta \u001b[36m0:00:00\u001b[0m\n",
            "\u001b[?25hRequirement already satisfied: numpy in /usr/local/lib/python3.10/dist-packages (from fvcore->MoViNet-pytorch==0.2.2) (1.25.2)\n",
            "Collecting yacs>=0.1.6 (from fvcore->MoViNet-pytorch==0.2.2)\n",
            "  Downloading yacs-0.1.8-py3-none-any.whl (14 kB)\n",
            "Requirement already satisfied: pyyaml>=5.1 in /usr/local/lib/python3.10/dist-packages (from fvcore->MoViNet-pytorch==0.2.2) (6.0.1)\n",
            "Requirement already satisfied: tqdm in /usr/local/lib/python3.10/dist-packages (from fvcore->MoViNet-pytorch==0.2.2) (4.66.2)\n",
            "Requirement already satisfied: termcolor>=1.1 in /usr/local/lib/python3.10/dist-packages (from fvcore->MoViNet-pytorch==0.2.2) (2.4.0)\n",
            "Requirement already satisfied: Pillow in /usr/local/lib/python3.10/dist-packages (from fvcore->MoViNet-pytorch==0.2.2) (9.4.0)\n",
            "Requirement already satisfied: tabulate in /usr/local/lib/python3.10/dist-packages (from fvcore->MoViNet-pytorch==0.2.2) (0.9.0)\n",
            "Collecting iopath>=0.1.7 (from fvcore->MoViNet-pytorch==0.2.2)\n",
            "  Downloading iopath-0.1.10.tar.gz (42 kB)\n",
            "\u001b[2K     \u001b[90m━━━━━━━━━━━━━━━━━━━━━━━━━━━━━━━━━━━━━━━━\u001b[0m \u001b[32m42.2/42.2 kB\u001b[0m \u001b[31m6.0 MB/s\u001b[0m eta \u001b[36m0:00:00\u001b[0m\n",
            "\u001b[?25h  Preparing metadata (setup.py) ... \u001b[?25l\u001b[?25hdone\n",
            "Requirement already satisfied: filelock in /usr/local/lib/python3.10/dist-packages (from torch->MoViNet-pytorch==0.2.2) (3.13.1)\n",
            "Requirement already satisfied: typing-extensions in /usr/local/lib/python3.10/dist-packages (from torch->MoViNet-pytorch==0.2.2) (4.9.0)\n",
            "Requirement already satisfied: sympy in /usr/local/lib/python3.10/dist-packages (from torch->MoViNet-pytorch==0.2.2) (1.12)\n",
            "Requirement already satisfied: networkx in /usr/local/lib/python3.10/dist-packages (from torch->MoViNet-pytorch==0.2.2) (3.2.1)\n",
            "Requirement already satisfied: jinja2 in /usr/local/lib/python3.10/dist-packages (from torch->MoViNet-pytorch==0.2.2) (3.1.3)\n",
            "Requirement already satisfied: fsspec in /usr/local/lib/python3.10/dist-packages (from torch->MoViNet-pytorch==0.2.2) (2023.6.0)\n",
            "Requirement already satisfied: triton==2.1.0 in /usr/local/lib/python3.10/dist-packages (from torch->MoViNet-pytorch==0.2.2) (2.1.0)\n",
            "Collecting portalocker (from iopath>=0.1.7->fvcore->MoViNet-pytorch==0.2.2)\n",
            "  Downloading portalocker-2.8.2-py3-none-any.whl (17 kB)\n",
            "Requirement already satisfied: MarkupSafe>=2.0 in /usr/local/lib/python3.10/dist-packages (from jinja2->torch->MoViNet-pytorch==0.2.2) (2.1.5)\n",
            "Requirement already satisfied: mpmath>=0.19 in /usr/local/lib/python3.10/dist-packages (from sympy->torch->MoViNet-pytorch==0.2.2) (1.3.0)\n",
            "Building wheels for collected packages: MoViNet-pytorch, fvcore, iopath\n",
            "  Building wheel for MoViNet-pytorch (setup.py) ... \u001b[?25l\u001b[?25hdone\n",
            "  Created wheel for MoViNet-pytorch: filename=MoViNet_pytorch-0.2.2-py3-none-any.whl size=11959 sha256=38ba4c1dea9c3859917be1480e12a7c6721987c15b113c6b8171937375a8d960\n",
            "  Stored in directory: /tmp/pip-ephem-wheel-cache-qifx2_0n/wheels/a4/76/cf/b8a087460d770e5a44eff9ed975e225d43f007c8c14f8e26d2\n",
            "  Building wheel for fvcore (setup.py) ... \u001b[?25l\u001b[?25hdone\n",
            "  Created wheel for fvcore: filename=fvcore-0.1.5.post20221221-py3-none-any.whl size=61400 sha256=601b3712d7b3503722b499f00b692dc1953dcc36d7125c0c649a705ad73543be\n",
            "  Stored in directory: /root/.cache/pip/wheels/01/c0/af/77c1cf53a1be9e42a52b48e5af2169d40ec2e89f7362489dd0\n",
            "  Building wheel for iopath (setup.py) ... \u001b[?25l\u001b[?25hdone\n",
            "  Created wheel for iopath: filename=iopath-0.1.10-py3-none-any.whl size=31532 sha256=7a4e63b7b6c84d6b1e523492432048c53667312146c2af8f7c8a9cb60ab26674\n",
            "  Stored in directory: /root/.cache/pip/wheels/9a/a3/b6/ac0fcd1b4ed5cfeb3db92e6a0e476cfd48ed0df92b91080c1d\n",
            "Successfully built MoViNet-pytorch fvcore iopath\n",
            "Installing collected packages: yacs, portalocker, einops, iopath, fvcore, MoViNet-pytorch\n",
            "Successfully installed MoViNet-pytorch-0.2.2 einops-0.7.0 fvcore-0.1.5.post20221221 iopath-0.1.10 portalocker-2.8.2 yacs-0.1.8\n"
          ]
        }
      ]
    },
    {
      "cell_type": "code",
      "source": [
        "import time\n",
        "import torchvision\n",
        "import torch.nn.functional as F\n",
        "import torchvision.transforms as transforms\n",
        "import torch.optim as optim\n",
        "from torch.utils.data import random_split, DataLoader\n",
        "import torch\n",
        "import transforms as T\n",
        "from movinets import MoViNet\n",
        "from movinets.config import _C"
      ],
      "metadata": {
        "id": "ePIoW6QP_Qlk"
      },
      "execution_count": 7,
      "outputs": []
    },
    {
      "cell_type": "markdown",
      "source": [
        "#Predict"
      ],
      "metadata": {
        "id": "fL-rP2xh_Wiu"
      }
    },
    {
      "cell_type": "markdown",
      "source": [
        "##Install ffmpeg\n"
      ],
      "metadata": {
        "id": "vV734KQT_Y8w"
      }
    },
    {
      "cell_type": "code",
      "source": [
        "from IPython.display import clear_output\n",
        "!sudo curl -L https://github.com/BtbN/FFmpeg-Builds/releases/download/latest/ffmpeg-master-latest-linux64-gpl.tar.xz -o /usr/local/bin/ffmpeg.tar.xz\n",
        "clear_output()\n",
        "%cd /usr/local/bin/\n",
        "clear_output()\n",
        "!7z e /usr/local/bin/ffmpeg.tar.xz\n",
        "clear_output()\n",
        "!7z e /usr/local/bin/ffmpeg.tar\n",
        "clear_output()\n",
        "!sudo chmod a+rx /usr/local/bin/ffmpeg\n",
        "clear_output()\n",
        "%cd /content/\n",
        "!sudo curl -L https://mkvtoolnix.download/appimage/MKVToolNix_GUI-70.0.0-x86_64.AppImage -o /usr/local/bin/MKVToolNix_GUI-70.0.0-x86_64.AppImage\n",
        "!sudo chmod u+rx /usr/local/bin/MKVToolNix_GUI-70.0.0-x86_64.AppImage\n",
        "!sudo ln -s /usr/local/bin/MKVToolNix_GUI-70.0.0-x86_64.AppImage /usr/local/bin/mkvmerge\n",
        "!sudo chmod a+rx /usr/local/bin/mkvmerge\n",
        "clear_output()\n",
        "!ffmpeg -version"
      ],
      "metadata": {
        "id": "v8eHCqnz_YgP"
      },
      "execution_count": null,
      "outputs": []
    },
    {
      "cell_type": "markdown",
      "source": [
        "### **FFMPEG**\n",
        "- Path Folder video ต้นฉบับ\n",
        "- Path output video\n",
        "- ตัดวิดีโอต้นฉบับให้เป็นวิดีโอละ 2 วินาที\n",
        "- ตั้งชื่อวิดีโอ \"video_test_{i+1}.avi\""
      ],
      "metadata": {
        "id": "ocE_OTcPAR-W"
      }
    },
    {
      "cell_type": "code",
      "source": [
        "import os\n",
        "import subprocess\n",
        "\n",
        "# กำหนด path ของวิดีโอที่ต้องการตัด\n",
        "inputFile = \"/content/drive/MyDrive/Game analysis/Video/Vdo_model/video แบ่งรอบไม่ตัด/video_data/test_video_fullvideo/[8-30-23][03.05-33.00] nosyy - yoru - rank immortal 1 - รอบ 1.avi\"\n",
        "\n",
        "# เรียกใช้ ffmpeg เพื่อรับข้อมูลเกี่ยวกับวิดีโอและคำนวณความยาวของมัน\n",
        "command = ['ffmpeg', '-i', inputFile, '-f', 'null', '-']\n",
        "result = subprocess.run(command, stdout=subprocess.PIPE, stderr=subprocess.STDOUT)\n",
        "output = result.stdout.decode('utf-8')\n",
        "\n",
        "# หาค่า duration จาก output\n",
        "duration_index = output.find('Duration: ') + len('Duration: ')\n",
        "duration = output[duration_index:duration_index+11]\n",
        "duration = duration.split(':')\n",
        "duration = int(duration[0])*3600 + int(duration[1])*60 + int(duration[2].split('.')[0])\n",
        "\n",
        "# กำหนดความยาวของคลิปวิดีโอที่ต้องการตัด\n",
        "clipDuration = 2  # คลิปวิดีโอละ 2 วินาที\n",
        "\n",
        "# กำหนด path ที่ต้องการบันทึกไฟล์ผลลัพธ์\n",
        "outputFolder = \"/content/drive/MyDrive/Game analysis/Video/Vdo_model/video แบ่งรอบไม่ตัด/video_data/test_video_cutvideo/Immortal_1\"\n",
        "\n",
        "# คำนวณจำนวนคลิปวิดีโอที่ต้องการตัด\n",
        "numClips = duration // clipDuration\n",
        "\n",
        "# สร้างคำสั่ง FFMPEG สำหรับการตัดแต่ละคลิปวิดีโอ\n",
        "for i in range(numClips):\n",
        "    # คำนวณเวลาเริ่มต้นและสิ้นสุดของคลิปวิดีโอ\n",
        "    startTime = i * clipDuration\n",
        "    endTime = startTime + clipDuration\n",
        "\n",
        "    # สร้าง command line สำหรับ FFMPEG\n",
        "    commandLine = ['-hide_banner', '-i', inputFile, '-map', '0', '-c', 'copy', '-ss', \"{:02d}:{:02d}:{:02d}\".format(startTime // 3600, (startTime // 60) % 60, startTime % 60), '-to', \"{:02d}:{:02d}:{:02d}\".format(endTime // 3600, (endTime // 60) % 60, endTime % 60)]\n",
        "\n",
        "    # กำหนด path ของไฟล์ผลลัพธ์\n",
        "    outputFile = os.path.join(outputFolder, f\"video_test_{i+1}.avi\")\n",
        "    commandLine += [outputFile]\n",
        "\n",
        "    # ใช้ FFMPEG เพื่อตัดคลิปวิดีโอ\n",
        "    subprocess.run(['ffmpeg'] + commandLine)\n"
      ],
      "metadata": {
        "id": "Vse3rxXhAXl5"
      },
      "execution_count": null,
      "outputs": []
    },
    {
      "cell_type": "markdown",
      "source": [
        "- สร้างไฟล์ text ที่ชื่อวิดีโอตรงกันและมี ID 2 หลัง.avi"
      ],
      "metadata": {
        "id": "_rg6b6dABDeO"
      }
    },
    {
      "cell_type": "code",
      "source": [
        "import os\n",
        "\n",
        "# กำหนด path ของโฟลเดอร์ที่มีวิดีโอ\n",
        "folder_path = \"/content/drive/MyDrive/Game analysis/Video/Vdo_model/video แบ่งรอบไม่ตัด/video_data/test_video_cutvideo/Immortal_1/\"\n",
        "\n",
        "# สร้างไฟล์ text\n",
        "output_file_path = \"/content/drive/MyDrive/Game analysis/Video/Vdo_model/video แบ่งรอบไม่ตัด/test_train_splits/Immortal_1_test_split1.txt\"\n",
        "with open(output_file_path, \"w\") as f:\n",
        "    # วนลูปผ่านไฟล์ในโฟลเดอร์\n",
        "    for i, filename in enumerate(os.listdir(folder_path), start=1):\n",
        "        # ตรวจสอบว่าไฟล์เป็นไฟล์วิดีโอ (.avi) หรือไม่\n",
        "        if filename.endswith(\".avi\"):\n",
        "            # สร้างชื่อไฟล์ใหม่\n",
        "            new_filename = f\"video_test_{i}.avi 2\\n\"\n",
        "            # เขียนชื่อไฟล์ใหม่ลงในไฟล์ text\n",
        "            f.write(new_filename)\n"
      ],
      "metadata": {
        "id": "12F2AwzpAola"
      },
      "execution_count": null,
      "outputs": []
    },
    {
      "cell_type": "markdown",
      "source": [
        "## **Load Model**"
      ],
      "metadata": {
        "id": "EzqlG-RdCBCM"
      }
    },
    {
      "cell_type": "code",
      "source": [
        "%cd /content/drive/MyDrive/Game analysis/Video/Vdo_model/video แบ่งรอบไม่ตัด/video_data\n",
        "%ls"
      ],
      "metadata": {
        "colab": {
          "base_uri": "https://localhost:8080/"
        },
        "id": "TGq8LcINEJr0",
        "outputId": "80af8973-b47d-4954-a5df-2f569a9060b7"
      },
      "execution_count": 8,
      "outputs": [
        {
          "output_type": "stream",
          "name": "stdout",
          "text": [
            "/content/drive/.shortcut-targets-by-id/1jusOl_HN_QQ9kYMlGXffiLoyy9tUOXuM/Game analysis/Video/Vdo_model/video แบ่งรอบไม่ตัด/video_data\n",
            "\u001b[0m\u001b[01;34mtest_video_cutvideo\u001b[0m/  \u001b[01;34mtest_video_fullvideo\u001b[0m/\n"
          ]
        }
      ]
    },
    {
      "cell_type": "code",
      "source": [
        "# Define the model architecture\n",
        "loaded_model1 = MoViNet(_C.MODEL.MoViNetA5, causal=False, pretrained=True)\n",
        "loaded_model1.classifier[3] = torch.nn.Conv3d(2048, 8, (1, 1, 1))\n",
        "\n",
        "# Specify the path to the checkpoint file\n",
        "best_checkpoint_path = '/content/drive/MyDrive/Game analysis/Video/Vdo_model/Model/Model Yoru Checkpoint/A5_yoru+habor_Checkpoint_epoch_round112 (1).pth'\n",
        "\n",
        "# Load the checkpoint, specifying map_location to CPU\n",
        "best_checkpoint = torch.load(best_checkpoint_path, map_location=torch.device('cpu'))\n",
        "\n",
        "# Load the model's state dictionary\n",
        "loaded_model1.load_state_dict(best_checkpoint['model_state_dict'])\n",
        "\n",
        "# Set the model to evaluation mode\n",
        "loaded_model1.eval()\n"
      ],
      "metadata": {
        "id": "H1rz6ZZ3CAio"
      },
      "execution_count": null,
      "outputs": []
    },
    {
      "cell_type": "markdown",
      "source": [
        "##Prepare DataLoader"
      ],
      "metadata": {
        "id": "J6ZFDR4iCLzo"
      }
    },
    {
      "cell_type": "code",
      "source": [
        "torch.manual_seed(97)\n",
        "num_frames = 24 # 16\n",
        "clip_steps = 12\n",
        "Bs_Train = 1\n",
        "Bs_Test = 1\n",
        "\n",
        "transform_test_A5 = transforms.Compose([\n",
        "                                 T.ToFloatTensorInZeroOne(),\n",
        "                                 T.Resize((400, 400)),\n",
        "                                 #T.Normalize(mean=[0.43216, 0.394666, 0.37645], std=[0.22803, 0.22145, 0.216989]),\n",
        "                                 T.CenterCrop((320, 320))]) #Size for model\n",
        "\n",
        "\n",
        "hmdb51_test_A5 = torchvision.datasets.HMDB51('/content/drive/MyDrive/Game analysis/Video/Vdo_model/video แบ่งรอบไม่ตัด/video_data/test_video_cutvideo/',\n",
        "                                             '/content/drive/MyDrive/Game analysis/Video/Vdo_model/video แบ่งรอบไม่ตัด/test_train_splits//',\n",
        "                                              frames_per_clip=24,frame_rate=24,step_between_clips = clip_steps, fold=1, train=False,transform=transform_test_A5, num_workers=2)\n",
        "\n",
        "test_loader_A5  = DataLoader(hmdb51_test_A5 , batch_size=Bs_Test, shuffle=False)"
      ],
      "metadata": {
        "colab": {
          "base_uri": "https://localhost:8080/"
        },
        "id": "G05ayhrRCNpu",
        "outputId": "a21ccecc-0886-424a-8821-852067968dba"
      },
      "execution_count": 10,
      "outputs": [
        {
          "output_type": "stream",
          "name": "stderr",
          "text": [
            "100%|██████████| 4/4 [00:18<00:00,  4.73s/it]\n"
          ]
        }
      ]
    },
    {
      "cell_type": "code",
      "source": [
        "print(hmdb51_test_A5)"
      ],
      "metadata": {
        "colab": {
          "base_uri": "https://localhost:8080/"
        },
        "id": "TAsSJR97CQJg",
        "outputId": "1f3f4756-5f20-4f43-818f-33e027d728bd"
      },
      "execution_count": 11,
      "outputs": [
        {
          "output_type": "stream",
          "name": "stdout",
          "text": [
            "Dataset HMDB51\n",
            "    Number of datapoints: 109\n",
            "    Root location: /content/drive/MyDrive/Game analysis/Video/Vdo_model/video แบ่งรอบไม่ตัด/video_data/test_video_cutvideo/\n"
          ]
        }
      ]
    },
    {
      "cell_type": "markdown",
      "source": [
        "## **Predict**"
      ],
      "metadata": {
        "id": "Ms8eb0EDChQq"
      }
    },
    {
      "cell_type": "code",
      "source": [
        "import torch\n",
        "import seaborn as sns\n",
        "import numpy as np\n",
        "import matplotlib.pyplot as plt\n",
        "from sklearn.metrics import confusion_matrix\n",
        "from sklearn.metrics import accuracy_score, precision_score, recall_score, f1_score\n",
        "from prettytable import PrettyTable\n",
        "from torch.utils.data import DataLoader\n",
        "from sklearn.metrics import classification_report"
      ],
      "metadata": {
        "id": "Ux1WMtemCXsd"
      },
      "execution_count": 13,
      "outputs": []
    },
    {
      "cell_type": "markdown",
      "source": [
        "###Predict Code"
      ],
      "metadata": {
        "id": "Z_tgsoMzQNWx"
      }
    },
    {
      "cell_type": "code",
      "source": [
        "# Make predictions\n",
        "with torch.no_grad():\n",
        "    output1 = loaded_model1(test_loader_A5)\n",
        "\n",
        "logits1= output1  # Replace this with your actual output tensor\n",
        "probabilities = F.softmax(logits1, dim=1)\n",
        "\n",
        "# Get the predicted class index and its probability\n",
        "predicted_class, highest_probability = torch.max(probabilities, dim=1)\n",
        "\n",
        "print(\"Highest Probability:\", highest_probability.item())\n",
        "print(\"Predicted Class:\", predicted_class.item())\n"
      ],
      "metadata": {
        "id": "j4zcL-L3E3W5"
      },
      "execution_count": null,
      "outputs": []
    },
    {
      "cell_type": "code",
      "source": [
        "device = next(loaded_model1.parameters()).device\n",
        "\n",
        "true_labels, predicted_labels = [], []\n",
        "\n",
        "with torch.no_grad():\n",
        "    for data, _, target in test_loader_A5:\n",
        "        # Move data and target to the same device as the model\n",
        "        data, target = data.to(device), target.to(device)\n",
        "\n",
        "        output = F.log_softmax(loaded_model1(data), dim=1)\n",
        "        _, predicted = torch.max(output, dim=1)\n",
        "\n",
        "        true_labels.extend(target.cpu().numpy())\n",
        "        predicted_labels.extend(predicted.cpu().numpy())"
      ],
      "metadata": {
        "id": "1Eo9MJTGClDr"
      },
      "execution_count": null,
      "outputs": []
    },
    {
      "cell_type": "code",
      "source": [
        "# ประมวลผลข้อมูล validation ด้วยโมเดลที่คุณเตรียมไว้\n",
        "device = next(loaded_model1.parameters()).device\n",
        "true_labels, predicted_labels = [], []\n",
        "\n",
        "# วนลูปผ่านชุดข้อมูล validation\n",
        "with torch.no_grad():\n",
        "    for data, _, target in test_loader_A5:\n",
        "        # ย้ายข้อมูลและเป้าหมายไปยังอุปกรณ์เดียวกับโมเดล\n",
        "        data, target = data.to(device), target.to(device)\n",
        "\n",
        "        # ทำนายคลาสของข้อมูล\n",
        "        output = F.log_softmax(loaded_model1(data), dim=1)\n",
        "        _, predicted = torch.max(output, dim=1)\n",
        "\n",
        "        # เก็บค่าเป้าหมายและค่าทำนาย\n",
        "        true_labels.extend(target.cpu().numpy())\n",
        "        predicted_labels.extend(predicted.cpu().numpy())\n",
        "\n",
        "# แสดงผลลัพธ์ที่ได้\n",
        "print(\"True Labels:\", true_labels)\n",
        "print(\"Predicted Labels:\", predicted_labels)"
      ],
      "metadata": {
        "colab": {
          "base_uri": "https://localhost:8080/"
        },
        "id": "F_tfohU4Ofhf",
        "outputId": "622e8b42-7bcc-4ba4-d1da-f1893b016d17"
      },
      "execution_count": 14,
      "outputs": [
        {
          "output_type": "stream",
          "name": "stderr",
          "text": [
            "/usr/local/lib/python3.10/dist-packages/torchvision/io/video.py:161: UserWarning: The pts_unit 'pts' gives wrong results. Please use pts_unit 'sec'.\n",
            "  warnings.warn(\"The pts_unit 'pts' gives wrong results. Please use pts_unit 'sec'.\")\n"
          ]
        },
        {
          "output_type": "stream",
          "name": "stdout",
          "text": [
            "True Labels: [0, 0, 0, 0, 0, 0, 0, 0, 0, 0, 0, 0, 0, 0, 0, 0, 0, 0, 0, 0, 0, 0, 0, 0, 0, 0, 0, 0, 0, 0, 0, 0, 0, 0, 0, 0, 0, 0, 0, 0, 0, 0, 0, 0, 0, 0, 0, 0, 0, 0, 0, 0, 0, 0, 0, 0, 0, 0, 0, 0, 0, 0, 0, 0, 0, 0, 0, 0, 0, 0, 0, 0, 0, 0, 0, 0, 0, 0, 0, 0, 0, 0, 0, 0, 0, 0, 0, 0, 0, 0, 0, 0, 0, 0, 0, 0, 0, 0, 0, 0, 0, 0, 0, 0, 0, 0, 0, 0, 0]\n",
            "Predicted Labels: [0, 0, 0, 7, 7, 7, 7, 7, 7, 7, 7, 7, 7, 7, 7, 7, 0, 0, 0, 0, 0, 0, 0, 0, 0, 0, 0, 0, 0, 0, 0, 0, 0, 0, 0, 0, 7, 7, 0, 7, 0, 6, 6, 6, 0, 0, 2, 2, 7, 2, 0, 0, 0, 0, 0, 0, 0, 0, 2, 0, 0, 0, 0, 0, 0, 0, 0, 0, 0, 0, 0, 2, 2, 2, 2, 2, 2, 2, 0, 0, 0, 0, 0, 0, 0, 0, 0, 0, 1, 0, 0, 0, 0, 0, 6, 0, 0, 0, 0, 0, 0, 0, 0, 0, 0, 0, 0, 0, 0]\n"
          ]
        }
      ]
    },
    {
      "cell_type": "code",
      "source": [
        "# Initialize lists to store true and predicted labels\n",
        "true_labels, predicted_labels = [], []\n",
        "\n",
        "# Define the device\n",
        "device = next(loaded_model1.parameters()).device\n",
        "\n",
        "# Iterate through the data loader\n",
        "with torch.no_grad():\n",
        "    for data, _, target in test_loader_A5:\n",
        "        # Move data and target to the same device as the model\n",
        "        data, target = data.to(device), target.to(device)\n",
        "\n",
        "        # Perform the prediction\n",
        "        output = F.log_softmax(loaded_model1(data), dim=1)\n",
        "        _, predicted = torch.max(output, dim=1)\n",
        "\n",
        "        # Extend the true and predicted labels lists\n",
        "        true_labels.extend(target.cpu().numpy())\n",
        "        predicted_labels.extend(predicted.cpu().numpy())\n",
        "\n",
        "# Convert lists to sets to get unique class labels\n",
        "true_classes = set(true_labels)\n",
        "predicted_classes = set(predicted_labels)\n",
        "\n",
        "# Determine the correctly identified classes\n",
        "correct_classes = true_classes.intersection(predicted_classes)\n",
        "\n",
        "print(\"Correctly identified classes:\")\n",
        "print(correct_classes)\n"
      ],
      "metadata": {
        "id": "aBYtQr4aJ3AM"
      },
      "execution_count": null,
      "outputs": []
    },
    {
      "cell_type": "markdown",
      "source": [
        "### Save predict to csv"
      ],
      "metadata": {
        "id": "MrOhq3osQP5T"
      }
    },
    {
      "cell_type": "code",
      "source": [
        "import pandas as pd\n",
        "from google.colab import drive\n",
        "\n",
        "# Mount Google Drive เพื่อให้สามารถเข้าถึงไดเรกทอรีบน Google Drive\n",
        "drive.mount('/content/drive')\n",
        "\n",
        "# สร้าง DataFrame จาก true_labels และ predicted_labels\n",
        "df = pd.DataFrame({'true_label': true_labels, 'predicted_label': predicted_labels})\n",
        "\n",
        "# บันทึก DataFrame เป็นไฟล์ CSV ในเส้นทางที่กำหนด\n",
        "output_path = '/content/drive/MyDrive/Game analysis/Video/Vdo_model/เก็บ csv ผลโมเดล/true_predict_A5_yoru+habor_2_with 1 round(ครั้งที่2).csv'\n",
        "df.to_csv(output_path, index=False)\n",
        "\n",
        "# บันทึก DataFrame เป็นไฟล์ CSV\n",
        "df.to_csv('true_predict_A5_yoru+habor_2_with 1 round(ครั้งที่2)..csv', index=False)"
      ],
      "metadata": {
        "colab": {
          "base_uri": "https://localhost:8080/"
        },
        "id": "H8YNCgxdCoDh",
        "outputId": "47732be7-57a2-4b6c-fc53-b80e9a5da80b"
      },
      "execution_count": 16,
      "outputs": [
        {
          "output_type": "stream",
          "name": "stdout",
          "text": [
            "Drive already mounted at /content/drive; to attempt to forcibly remount, call drive.mount(\"/content/drive\", force_remount=True).\n"
          ]
        }
      ]
    },
    {
      "cell_type": "code",
      "source": [
        "df"
      ],
      "metadata": {
        "colab": {
          "base_uri": "https://localhost:8080/",
          "height": 424
        },
        "id": "wr4H6UNbfZUY",
        "outputId": "3155e9b3-7669-4010-f7f5-3a4f72a283d8"
      },
      "execution_count": 21,
      "outputs": [
        {
          "output_type": "execute_result",
          "data": {
            "text/plain": [
              "     true_label  predicted_label\n",
              "0             0                0\n",
              "1             0                0\n",
              "2             0                0\n",
              "3             0                7\n",
              "4             0                7\n",
              "..          ...              ...\n",
              "104           0                0\n",
              "105           0                0\n",
              "106           0                0\n",
              "107           0                0\n",
              "108           0                0\n",
              "\n",
              "[109 rows x 2 columns]"
            ],
            "text/html": [
              "\n",
              "  <div id=\"df-6587c254-d685-4ab9-90c4-087e091e6494\" class=\"colab-df-container\">\n",
              "    <div>\n",
              "<style scoped>\n",
              "    .dataframe tbody tr th:only-of-type {\n",
              "        vertical-align: middle;\n",
              "    }\n",
              "\n",
              "    .dataframe tbody tr th {\n",
              "        vertical-align: top;\n",
              "    }\n",
              "\n",
              "    .dataframe thead th {\n",
              "        text-align: right;\n",
              "    }\n",
              "</style>\n",
              "<table border=\"1\" class=\"dataframe\">\n",
              "  <thead>\n",
              "    <tr style=\"text-align: right;\">\n",
              "      <th></th>\n",
              "      <th>true_label</th>\n",
              "      <th>predicted_label</th>\n",
              "    </tr>\n",
              "  </thead>\n",
              "  <tbody>\n",
              "    <tr>\n",
              "      <th>0</th>\n",
              "      <td>0</td>\n",
              "      <td>0</td>\n",
              "    </tr>\n",
              "    <tr>\n",
              "      <th>1</th>\n",
              "      <td>0</td>\n",
              "      <td>0</td>\n",
              "    </tr>\n",
              "    <tr>\n",
              "      <th>2</th>\n",
              "      <td>0</td>\n",
              "      <td>0</td>\n",
              "    </tr>\n",
              "    <tr>\n",
              "      <th>3</th>\n",
              "      <td>0</td>\n",
              "      <td>7</td>\n",
              "    </tr>\n",
              "    <tr>\n",
              "      <th>4</th>\n",
              "      <td>0</td>\n",
              "      <td>7</td>\n",
              "    </tr>\n",
              "    <tr>\n",
              "      <th>...</th>\n",
              "      <td>...</td>\n",
              "      <td>...</td>\n",
              "    </tr>\n",
              "    <tr>\n",
              "      <th>104</th>\n",
              "      <td>0</td>\n",
              "      <td>0</td>\n",
              "    </tr>\n",
              "    <tr>\n",
              "      <th>105</th>\n",
              "      <td>0</td>\n",
              "      <td>0</td>\n",
              "    </tr>\n",
              "    <tr>\n",
              "      <th>106</th>\n",
              "      <td>0</td>\n",
              "      <td>0</td>\n",
              "    </tr>\n",
              "    <tr>\n",
              "      <th>107</th>\n",
              "      <td>0</td>\n",
              "      <td>0</td>\n",
              "    </tr>\n",
              "    <tr>\n",
              "      <th>108</th>\n",
              "      <td>0</td>\n",
              "      <td>0</td>\n",
              "    </tr>\n",
              "  </tbody>\n",
              "</table>\n",
              "<p>109 rows × 2 columns</p>\n",
              "</div>\n",
              "    <div class=\"colab-df-buttons\">\n",
              "\n",
              "  <div class=\"colab-df-container\">\n",
              "    <button class=\"colab-df-convert\" onclick=\"convertToInteractive('df-6587c254-d685-4ab9-90c4-087e091e6494')\"\n",
              "            title=\"Convert this dataframe to an interactive table.\"\n",
              "            style=\"display:none;\">\n",
              "\n",
              "  <svg xmlns=\"http://www.w3.org/2000/svg\" height=\"24px\" viewBox=\"0 -960 960 960\">\n",
              "    <path d=\"M120-120v-720h720v720H120Zm60-500h600v-160H180v160Zm220 220h160v-160H400v160Zm0 220h160v-160H400v160ZM180-400h160v-160H180v160Zm440 0h160v-160H620v160ZM180-180h160v-160H180v160Zm440 0h160v-160H620v160Z\"/>\n",
              "  </svg>\n",
              "    </button>\n",
              "\n",
              "  <style>\n",
              "    .colab-df-container {\n",
              "      display:flex;\n",
              "      gap: 12px;\n",
              "    }\n",
              "\n",
              "    .colab-df-convert {\n",
              "      background-color: #E8F0FE;\n",
              "      border: none;\n",
              "      border-radius: 50%;\n",
              "      cursor: pointer;\n",
              "      display: none;\n",
              "      fill: #1967D2;\n",
              "      height: 32px;\n",
              "      padding: 0 0 0 0;\n",
              "      width: 32px;\n",
              "    }\n",
              "\n",
              "    .colab-df-convert:hover {\n",
              "      background-color: #E2EBFA;\n",
              "      box-shadow: 0px 1px 2px rgba(60, 64, 67, 0.3), 0px 1px 3px 1px rgba(60, 64, 67, 0.15);\n",
              "      fill: #174EA6;\n",
              "    }\n",
              "\n",
              "    .colab-df-buttons div {\n",
              "      margin-bottom: 4px;\n",
              "    }\n",
              "\n",
              "    [theme=dark] .colab-df-convert {\n",
              "      background-color: #3B4455;\n",
              "      fill: #D2E3FC;\n",
              "    }\n",
              "\n",
              "    [theme=dark] .colab-df-convert:hover {\n",
              "      background-color: #434B5C;\n",
              "      box-shadow: 0px 1px 3px 1px rgba(0, 0, 0, 0.15);\n",
              "      filter: drop-shadow(0px 1px 2px rgba(0, 0, 0, 0.3));\n",
              "      fill: #FFFFFF;\n",
              "    }\n",
              "  </style>\n",
              "\n",
              "    <script>\n",
              "      const buttonEl =\n",
              "        document.querySelector('#df-6587c254-d685-4ab9-90c4-087e091e6494 button.colab-df-convert');\n",
              "      buttonEl.style.display =\n",
              "        google.colab.kernel.accessAllowed ? 'block' : 'none';\n",
              "\n",
              "      async function convertToInteractive(key) {\n",
              "        const element = document.querySelector('#df-6587c254-d685-4ab9-90c4-087e091e6494');\n",
              "        const dataTable =\n",
              "          await google.colab.kernel.invokeFunction('convertToInteractive',\n",
              "                                                    [key], {});\n",
              "        if (!dataTable) return;\n",
              "\n",
              "        const docLinkHtml = 'Like what you see? Visit the ' +\n",
              "          '<a target=\"_blank\" href=https://colab.research.google.com/notebooks/data_table.ipynb>data table notebook</a>'\n",
              "          + ' to learn more about interactive tables.';\n",
              "        element.innerHTML = '';\n",
              "        dataTable['output_type'] = 'display_data';\n",
              "        await google.colab.output.renderOutput(dataTable, element);\n",
              "        const docLink = document.createElement('div');\n",
              "        docLink.innerHTML = docLinkHtml;\n",
              "        element.appendChild(docLink);\n",
              "      }\n",
              "    </script>\n",
              "  </div>\n",
              "\n",
              "\n",
              "<div id=\"df-fc923ab5-50e2-4b39-aed6-2bd8e756a00f\">\n",
              "  <button class=\"colab-df-quickchart\" onclick=\"quickchart('df-fc923ab5-50e2-4b39-aed6-2bd8e756a00f')\"\n",
              "            title=\"Suggest charts\"\n",
              "            style=\"display:none;\">\n",
              "\n",
              "<svg xmlns=\"http://www.w3.org/2000/svg\" height=\"24px\"viewBox=\"0 0 24 24\"\n",
              "     width=\"24px\">\n",
              "    <g>\n",
              "        <path d=\"M19 3H5c-1.1 0-2 .9-2 2v14c0 1.1.9 2 2 2h14c1.1 0 2-.9 2-2V5c0-1.1-.9-2-2-2zM9 17H7v-7h2v7zm4 0h-2V7h2v10zm4 0h-2v-4h2v4z\"/>\n",
              "    </g>\n",
              "</svg>\n",
              "  </button>\n",
              "\n",
              "<style>\n",
              "  .colab-df-quickchart {\n",
              "      --bg-color: #E8F0FE;\n",
              "      --fill-color: #1967D2;\n",
              "      --hover-bg-color: #E2EBFA;\n",
              "      --hover-fill-color: #174EA6;\n",
              "      --disabled-fill-color: #AAA;\n",
              "      --disabled-bg-color: #DDD;\n",
              "  }\n",
              "\n",
              "  [theme=dark] .colab-df-quickchart {\n",
              "      --bg-color: #3B4455;\n",
              "      --fill-color: #D2E3FC;\n",
              "      --hover-bg-color: #434B5C;\n",
              "      --hover-fill-color: #FFFFFF;\n",
              "      --disabled-bg-color: #3B4455;\n",
              "      --disabled-fill-color: #666;\n",
              "  }\n",
              "\n",
              "  .colab-df-quickchart {\n",
              "    background-color: var(--bg-color);\n",
              "    border: none;\n",
              "    border-radius: 50%;\n",
              "    cursor: pointer;\n",
              "    display: none;\n",
              "    fill: var(--fill-color);\n",
              "    height: 32px;\n",
              "    padding: 0;\n",
              "    width: 32px;\n",
              "  }\n",
              "\n",
              "  .colab-df-quickchart:hover {\n",
              "    background-color: var(--hover-bg-color);\n",
              "    box-shadow: 0 1px 2px rgba(60, 64, 67, 0.3), 0 1px 3px 1px rgba(60, 64, 67, 0.15);\n",
              "    fill: var(--button-hover-fill-color);\n",
              "  }\n",
              "\n",
              "  .colab-df-quickchart-complete:disabled,\n",
              "  .colab-df-quickchart-complete:disabled:hover {\n",
              "    background-color: var(--disabled-bg-color);\n",
              "    fill: var(--disabled-fill-color);\n",
              "    box-shadow: none;\n",
              "  }\n",
              "\n",
              "  .colab-df-spinner {\n",
              "    border: 2px solid var(--fill-color);\n",
              "    border-color: transparent;\n",
              "    border-bottom-color: var(--fill-color);\n",
              "    animation:\n",
              "      spin 1s steps(1) infinite;\n",
              "  }\n",
              "\n",
              "  @keyframes spin {\n",
              "    0% {\n",
              "      border-color: transparent;\n",
              "      border-bottom-color: var(--fill-color);\n",
              "      border-left-color: var(--fill-color);\n",
              "    }\n",
              "    20% {\n",
              "      border-color: transparent;\n",
              "      border-left-color: var(--fill-color);\n",
              "      border-top-color: var(--fill-color);\n",
              "    }\n",
              "    30% {\n",
              "      border-color: transparent;\n",
              "      border-left-color: var(--fill-color);\n",
              "      border-top-color: var(--fill-color);\n",
              "      border-right-color: var(--fill-color);\n",
              "    }\n",
              "    40% {\n",
              "      border-color: transparent;\n",
              "      border-right-color: var(--fill-color);\n",
              "      border-top-color: var(--fill-color);\n",
              "    }\n",
              "    60% {\n",
              "      border-color: transparent;\n",
              "      border-right-color: var(--fill-color);\n",
              "    }\n",
              "    80% {\n",
              "      border-color: transparent;\n",
              "      border-right-color: var(--fill-color);\n",
              "      border-bottom-color: var(--fill-color);\n",
              "    }\n",
              "    90% {\n",
              "      border-color: transparent;\n",
              "      border-bottom-color: var(--fill-color);\n",
              "    }\n",
              "  }\n",
              "</style>\n",
              "\n",
              "  <script>\n",
              "    async function quickchart(key) {\n",
              "      const quickchartButtonEl =\n",
              "        document.querySelector('#' + key + ' button');\n",
              "      quickchartButtonEl.disabled = true;  // To prevent multiple clicks.\n",
              "      quickchartButtonEl.classList.add('colab-df-spinner');\n",
              "      try {\n",
              "        const charts = await google.colab.kernel.invokeFunction(\n",
              "            'suggestCharts', [key], {});\n",
              "      } catch (error) {\n",
              "        console.error('Error during call to suggestCharts:', error);\n",
              "      }\n",
              "      quickchartButtonEl.classList.remove('colab-df-spinner');\n",
              "      quickchartButtonEl.classList.add('colab-df-quickchart-complete');\n",
              "    }\n",
              "    (() => {\n",
              "      let quickchartButtonEl =\n",
              "        document.querySelector('#df-fc923ab5-50e2-4b39-aed6-2bd8e756a00f button');\n",
              "      quickchartButtonEl.style.display =\n",
              "        google.colab.kernel.accessAllowed ? 'block' : 'none';\n",
              "    })();\n",
              "  </script>\n",
              "</div>\n",
              "    </div>\n",
              "  </div>\n"
            ],
            "application/vnd.google.colaboratory.intrinsic+json": {
              "type": "dataframe",
              "variable_name": "df",
              "summary": "{\n  \"name\": \"df\",\n  \"rows\": 109,\n  \"fields\": [\n    {\n      \"column\": \"true_label\",\n      \"properties\": {\n        \"dtype\": \"number\",\n        \"std\": 0,\n        \"min\": 0,\n        \"max\": 0,\n        \"samples\": [\n          0\n        ],\n        \"num_unique_values\": 1,\n        \"semantic_type\": \"\",\n        \"description\": \"\"\n      }\n    },\n    {\n      \"column\": \"predicted_label\",\n      \"properties\": {\n        \"dtype\": \"number\",\n        \"std\": 2,\n        \"min\": 0,\n        \"max\": 7,\n        \"samples\": [\n          7\n        ],\n        \"num_unique_values\": 5,\n        \"semantic_type\": \"\",\n        \"description\": \"\"\n      }\n    }\n  ]\n}"
            }
          },
          "metadata": {},
          "execution_count": 21
        }
      ]
    },
    {
      "cell_type": "markdown",
      "source": [
        "### Mapping Predict_labe กับ Class Model"
      ],
      "metadata": {
        "id": "-qbXSRxQfiAt"
      }
    },
    {
      "cell_type": "code",
      "source": [
        "class_names = ['Buy action', 'Class 0 action', 'Dead Action', 'Defuse Action', 'Orb Action', 'Plant Action', 'Shoot Action', 'Skill Action']"
      ],
      "metadata": {
        "id": "OKDX33qWflnO"
      },
      "execution_count": 19,
      "outputs": []
    },
    {
      "cell_type": "code",
      "source": [
        "# สร้าง list เพื่อเก็บชื่อคลาสที่สอดคล้องกับลำดับของ predicted_labels\n",
        "predicted_class_names = [class_names[label] for label in df['predicted_label']]\n",
        "\n",
        "# เพิ่มคอลัมน์ใหม่ใน DataFrame เพื่อเก็บชื่อคลาสที่พยายามทำนาย\n",
        "df['predicted_class_names'] = predicted_class_names\n"
      ],
      "metadata": {
        "id": "UCHbPDFYf1F1"
      },
      "execution_count": null,
      "outputs": []
    },
    {
      "cell_type": "code",
      "source": [
        "df"
      ],
      "metadata": {
        "colab": {
          "base_uri": "https://localhost:8080/",
          "height": 424
        },
        "id": "4HWRaiqBf7nk",
        "outputId": "43672c54-253e-4687-ae29-dcd7ac87afd2"
      },
      "execution_count": 24,
      "outputs": [
        {
          "output_type": "execute_result",
          "data": {
            "text/plain": [
              "     true_label  predicted_label predicted_class_names\n",
              "0             0                0            Buy action\n",
              "1             0                0            Buy action\n",
              "2             0                0            Buy action\n",
              "3             0                7          Skill Action\n",
              "4             0                7          Skill Action\n",
              "..          ...              ...                   ...\n",
              "104           0                0            Buy action\n",
              "105           0                0            Buy action\n",
              "106           0                0            Buy action\n",
              "107           0                0            Buy action\n",
              "108           0                0            Buy action\n",
              "\n",
              "[109 rows x 3 columns]"
            ],
            "text/html": [
              "\n",
              "  <div id=\"df-1d308836-d097-4668-940f-90ea6dea0fd2\" class=\"colab-df-container\">\n",
              "    <div>\n",
              "<style scoped>\n",
              "    .dataframe tbody tr th:only-of-type {\n",
              "        vertical-align: middle;\n",
              "    }\n",
              "\n",
              "    .dataframe tbody tr th {\n",
              "        vertical-align: top;\n",
              "    }\n",
              "\n",
              "    .dataframe thead th {\n",
              "        text-align: right;\n",
              "    }\n",
              "</style>\n",
              "<table border=\"1\" class=\"dataframe\">\n",
              "  <thead>\n",
              "    <tr style=\"text-align: right;\">\n",
              "      <th></th>\n",
              "      <th>true_label</th>\n",
              "      <th>predicted_label</th>\n",
              "      <th>predicted_class_names</th>\n",
              "    </tr>\n",
              "  </thead>\n",
              "  <tbody>\n",
              "    <tr>\n",
              "      <th>0</th>\n",
              "      <td>0</td>\n",
              "      <td>0</td>\n",
              "      <td>Buy action</td>\n",
              "    </tr>\n",
              "    <tr>\n",
              "      <th>1</th>\n",
              "      <td>0</td>\n",
              "      <td>0</td>\n",
              "      <td>Buy action</td>\n",
              "    </tr>\n",
              "    <tr>\n",
              "      <th>2</th>\n",
              "      <td>0</td>\n",
              "      <td>0</td>\n",
              "      <td>Buy action</td>\n",
              "    </tr>\n",
              "    <tr>\n",
              "      <th>3</th>\n",
              "      <td>0</td>\n",
              "      <td>7</td>\n",
              "      <td>Skill Action</td>\n",
              "    </tr>\n",
              "    <tr>\n",
              "      <th>4</th>\n",
              "      <td>0</td>\n",
              "      <td>7</td>\n",
              "      <td>Skill Action</td>\n",
              "    </tr>\n",
              "    <tr>\n",
              "      <th>...</th>\n",
              "      <td>...</td>\n",
              "      <td>...</td>\n",
              "      <td>...</td>\n",
              "    </tr>\n",
              "    <tr>\n",
              "      <th>104</th>\n",
              "      <td>0</td>\n",
              "      <td>0</td>\n",
              "      <td>Buy action</td>\n",
              "    </tr>\n",
              "    <tr>\n",
              "      <th>105</th>\n",
              "      <td>0</td>\n",
              "      <td>0</td>\n",
              "      <td>Buy action</td>\n",
              "    </tr>\n",
              "    <tr>\n",
              "      <th>106</th>\n",
              "      <td>0</td>\n",
              "      <td>0</td>\n",
              "      <td>Buy action</td>\n",
              "    </tr>\n",
              "    <tr>\n",
              "      <th>107</th>\n",
              "      <td>0</td>\n",
              "      <td>0</td>\n",
              "      <td>Buy action</td>\n",
              "    </tr>\n",
              "    <tr>\n",
              "      <th>108</th>\n",
              "      <td>0</td>\n",
              "      <td>0</td>\n",
              "      <td>Buy action</td>\n",
              "    </tr>\n",
              "  </tbody>\n",
              "</table>\n",
              "<p>109 rows × 3 columns</p>\n",
              "</div>\n",
              "    <div class=\"colab-df-buttons\">\n",
              "\n",
              "  <div class=\"colab-df-container\">\n",
              "    <button class=\"colab-df-convert\" onclick=\"convertToInteractive('df-1d308836-d097-4668-940f-90ea6dea0fd2')\"\n",
              "            title=\"Convert this dataframe to an interactive table.\"\n",
              "            style=\"display:none;\">\n",
              "\n",
              "  <svg xmlns=\"http://www.w3.org/2000/svg\" height=\"24px\" viewBox=\"0 -960 960 960\">\n",
              "    <path d=\"M120-120v-720h720v720H120Zm60-500h600v-160H180v160Zm220 220h160v-160H400v160Zm0 220h160v-160H400v160ZM180-400h160v-160H180v160Zm440 0h160v-160H620v160ZM180-180h160v-160H180v160Zm440 0h160v-160H620v160Z\"/>\n",
              "  </svg>\n",
              "    </button>\n",
              "\n",
              "  <style>\n",
              "    .colab-df-container {\n",
              "      display:flex;\n",
              "      gap: 12px;\n",
              "    }\n",
              "\n",
              "    .colab-df-convert {\n",
              "      background-color: #E8F0FE;\n",
              "      border: none;\n",
              "      border-radius: 50%;\n",
              "      cursor: pointer;\n",
              "      display: none;\n",
              "      fill: #1967D2;\n",
              "      height: 32px;\n",
              "      padding: 0 0 0 0;\n",
              "      width: 32px;\n",
              "    }\n",
              "\n",
              "    .colab-df-convert:hover {\n",
              "      background-color: #E2EBFA;\n",
              "      box-shadow: 0px 1px 2px rgba(60, 64, 67, 0.3), 0px 1px 3px 1px rgba(60, 64, 67, 0.15);\n",
              "      fill: #174EA6;\n",
              "    }\n",
              "\n",
              "    .colab-df-buttons div {\n",
              "      margin-bottom: 4px;\n",
              "    }\n",
              "\n",
              "    [theme=dark] .colab-df-convert {\n",
              "      background-color: #3B4455;\n",
              "      fill: #D2E3FC;\n",
              "    }\n",
              "\n",
              "    [theme=dark] .colab-df-convert:hover {\n",
              "      background-color: #434B5C;\n",
              "      box-shadow: 0px 1px 3px 1px rgba(0, 0, 0, 0.15);\n",
              "      filter: drop-shadow(0px 1px 2px rgba(0, 0, 0, 0.3));\n",
              "      fill: #FFFFFF;\n",
              "    }\n",
              "  </style>\n",
              "\n",
              "    <script>\n",
              "      const buttonEl =\n",
              "        document.querySelector('#df-1d308836-d097-4668-940f-90ea6dea0fd2 button.colab-df-convert');\n",
              "      buttonEl.style.display =\n",
              "        google.colab.kernel.accessAllowed ? 'block' : 'none';\n",
              "\n",
              "      async function convertToInteractive(key) {\n",
              "        const element = document.querySelector('#df-1d308836-d097-4668-940f-90ea6dea0fd2');\n",
              "        const dataTable =\n",
              "          await google.colab.kernel.invokeFunction('convertToInteractive',\n",
              "                                                    [key], {});\n",
              "        if (!dataTable) return;\n",
              "\n",
              "        const docLinkHtml = 'Like what you see? Visit the ' +\n",
              "          '<a target=\"_blank\" href=https://colab.research.google.com/notebooks/data_table.ipynb>data table notebook</a>'\n",
              "          + ' to learn more about interactive tables.';\n",
              "        element.innerHTML = '';\n",
              "        dataTable['output_type'] = 'display_data';\n",
              "        await google.colab.output.renderOutput(dataTable, element);\n",
              "        const docLink = document.createElement('div');\n",
              "        docLink.innerHTML = docLinkHtml;\n",
              "        element.appendChild(docLink);\n",
              "      }\n",
              "    </script>\n",
              "  </div>\n",
              "\n",
              "\n",
              "<div id=\"df-8dbc859c-393b-47ac-9475-af7a1f1c22eb\">\n",
              "  <button class=\"colab-df-quickchart\" onclick=\"quickchart('df-8dbc859c-393b-47ac-9475-af7a1f1c22eb')\"\n",
              "            title=\"Suggest charts\"\n",
              "            style=\"display:none;\">\n",
              "\n",
              "<svg xmlns=\"http://www.w3.org/2000/svg\" height=\"24px\"viewBox=\"0 0 24 24\"\n",
              "     width=\"24px\">\n",
              "    <g>\n",
              "        <path d=\"M19 3H5c-1.1 0-2 .9-2 2v14c0 1.1.9 2 2 2h14c1.1 0 2-.9 2-2V5c0-1.1-.9-2-2-2zM9 17H7v-7h2v7zm4 0h-2V7h2v10zm4 0h-2v-4h2v4z\"/>\n",
              "    </g>\n",
              "</svg>\n",
              "  </button>\n",
              "\n",
              "<style>\n",
              "  .colab-df-quickchart {\n",
              "      --bg-color: #E8F0FE;\n",
              "      --fill-color: #1967D2;\n",
              "      --hover-bg-color: #E2EBFA;\n",
              "      --hover-fill-color: #174EA6;\n",
              "      --disabled-fill-color: #AAA;\n",
              "      --disabled-bg-color: #DDD;\n",
              "  }\n",
              "\n",
              "  [theme=dark] .colab-df-quickchart {\n",
              "      --bg-color: #3B4455;\n",
              "      --fill-color: #D2E3FC;\n",
              "      --hover-bg-color: #434B5C;\n",
              "      --hover-fill-color: #FFFFFF;\n",
              "      --disabled-bg-color: #3B4455;\n",
              "      --disabled-fill-color: #666;\n",
              "  }\n",
              "\n",
              "  .colab-df-quickchart {\n",
              "    background-color: var(--bg-color);\n",
              "    border: none;\n",
              "    border-radius: 50%;\n",
              "    cursor: pointer;\n",
              "    display: none;\n",
              "    fill: var(--fill-color);\n",
              "    height: 32px;\n",
              "    padding: 0;\n",
              "    width: 32px;\n",
              "  }\n",
              "\n",
              "  .colab-df-quickchart:hover {\n",
              "    background-color: var(--hover-bg-color);\n",
              "    box-shadow: 0 1px 2px rgba(60, 64, 67, 0.3), 0 1px 3px 1px rgba(60, 64, 67, 0.15);\n",
              "    fill: var(--button-hover-fill-color);\n",
              "  }\n",
              "\n",
              "  .colab-df-quickchart-complete:disabled,\n",
              "  .colab-df-quickchart-complete:disabled:hover {\n",
              "    background-color: var(--disabled-bg-color);\n",
              "    fill: var(--disabled-fill-color);\n",
              "    box-shadow: none;\n",
              "  }\n",
              "\n",
              "  .colab-df-spinner {\n",
              "    border: 2px solid var(--fill-color);\n",
              "    border-color: transparent;\n",
              "    border-bottom-color: var(--fill-color);\n",
              "    animation:\n",
              "      spin 1s steps(1) infinite;\n",
              "  }\n",
              "\n",
              "  @keyframes spin {\n",
              "    0% {\n",
              "      border-color: transparent;\n",
              "      border-bottom-color: var(--fill-color);\n",
              "      border-left-color: var(--fill-color);\n",
              "    }\n",
              "    20% {\n",
              "      border-color: transparent;\n",
              "      border-left-color: var(--fill-color);\n",
              "      border-top-color: var(--fill-color);\n",
              "    }\n",
              "    30% {\n",
              "      border-color: transparent;\n",
              "      border-left-color: var(--fill-color);\n",
              "      border-top-color: var(--fill-color);\n",
              "      border-right-color: var(--fill-color);\n",
              "    }\n",
              "    40% {\n",
              "      border-color: transparent;\n",
              "      border-right-color: var(--fill-color);\n",
              "      border-top-color: var(--fill-color);\n",
              "    }\n",
              "    60% {\n",
              "      border-color: transparent;\n",
              "      border-right-color: var(--fill-color);\n",
              "    }\n",
              "    80% {\n",
              "      border-color: transparent;\n",
              "      border-right-color: var(--fill-color);\n",
              "      border-bottom-color: var(--fill-color);\n",
              "    }\n",
              "    90% {\n",
              "      border-color: transparent;\n",
              "      border-bottom-color: var(--fill-color);\n",
              "    }\n",
              "  }\n",
              "</style>\n",
              "\n",
              "  <script>\n",
              "    async function quickchart(key) {\n",
              "      const quickchartButtonEl =\n",
              "        document.querySelector('#' + key + ' button');\n",
              "      quickchartButtonEl.disabled = true;  // To prevent multiple clicks.\n",
              "      quickchartButtonEl.classList.add('colab-df-spinner');\n",
              "      try {\n",
              "        const charts = await google.colab.kernel.invokeFunction(\n",
              "            'suggestCharts', [key], {});\n",
              "      } catch (error) {\n",
              "        console.error('Error during call to suggestCharts:', error);\n",
              "      }\n",
              "      quickchartButtonEl.classList.remove('colab-df-spinner');\n",
              "      quickchartButtonEl.classList.add('colab-df-quickchart-complete');\n",
              "    }\n",
              "    (() => {\n",
              "      let quickchartButtonEl =\n",
              "        document.querySelector('#df-8dbc859c-393b-47ac-9475-af7a1f1c22eb button');\n",
              "      quickchartButtonEl.style.display =\n",
              "        google.colab.kernel.accessAllowed ? 'block' : 'none';\n",
              "    })();\n",
              "  </script>\n",
              "</div>\n",
              "    </div>\n",
              "  </div>\n"
            ],
            "application/vnd.google.colaboratory.intrinsic+json": {
              "type": "dataframe",
              "variable_name": "df",
              "summary": "{\n  \"name\": \"df\",\n  \"rows\": 109,\n  \"fields\": [\n    {\n      \"column\": \"true_label\",\n      \"properties\": {\n        \"dtype\": \"number\",\n        \"std\": 0,\n        \"min\": 0,\n        \"max\": 0,\n        \"samples\": [\n          0\n        ],\n        \"num_unique_values\": 1,\n        \"semantic_type\": \"\",\n        \"description\": \"\"\n      }\n    },\n    {\n      \"column\": \"predicted_label\",\n      \"properties\": {\n        \"dtype\": \"number\",\n        \"std\": 2,\n        \"min\": 0,\n        \"max\": 7,\n        \"samples\": [\n          7\n        ],\n        \"num_unique_values\": 5,\n        \"semantic_type\": \"\",\n        \"description\": \"\"\n      }\n    },\n    {\n      \"column\": \"predicted_class_names\",\n      \"properties\": {\n        \"dtype\": \"category\",\n        \"samples\": [\n          \"Skill Action\"\n        ],\n        \"num_unique_values\": 5,\n        \"semantic_type\": \"\",\n        \"description\": \"\"\n      }\n    }\n  ]\n}"
            }
          },
          "metadata": {},
          "execution_count": 24
        }
      ]
    },
    {
      "cell_type": "code",
      "source": [
        "# หาความถี่ของแต่ละคลาสในคอลัมน์ predicted_labels\n",
        "class_frequency = df['predicted_label'].value_counts()\n",
        "\n",
        "# แสดงผลลัพธ์\n",
        "print(class_frequency)\n"
      ],
      "metadata": {
        "colab": {
          "base_uri": "https://localhost:8080/"
        },
        "id": "eaKugaVXg72f",
        "outputId": "e33d0b7d-f249-4d89-f9b2-f159055a7c44"
      },
      "execution_count": 30,
      "outputs": [
        {
          "output_type": "stream",
          "name": "stdout",
          "text": [
            "0    76\n",
            "7    17\n",
            "2    11\n",
            "6     4\n",
            "1     1\n",
            "Name: predicted_label, dtype: int64\n"
          ]
        }
      ]
    }
  ]
}